{
 "cells": [
  {
   "cell_type": "markdown",
   "id": "a9534170",
   "metadata": {},
   "source": [
    "\n",
    "# 🤖 Azure Landing Zone: Automation\n",
    "\n",
    "## Overview\n",
    "\n",
    "Automation in Azure Landing Zone helps reduce manual effort, improve deployment consistency, and enforce governance. It covers both infrastructure provisioning (IaC) and application deployment (CI/CD).\n",
    "\n",
    "---\n"
   ]
  },
  {
   "cell_type": "markdown",
   "id": "4c915bdd",
   "metadata": {},
   "source": [
    "\n",
    "## 🏗️ Infrastructure Provisioning (IaC)\n",
    "\n",
    "Use tools like Terraform, Bicep, and ARM templates to define and deploy cloud resources declaratively.\n",
    "\n",
    "### Tools:\n",
    "- **Terraform**: Open-source, multi-cloud IaC tool.\n",
    "- **Bicep**: Simplified DSL for Azure-native infrastructure.\n",
    "- **ARM Templates**: JSON-based native deployment format.\n"
   ]
  },
  {
   "cell_type": "markdown",
   "id": "7f8428e0",
   "metadata": {},
   "source": [
    "\n",
    "# main.tf (Terraform)\n",
    "provider \"azurerm\" {\n",
    "  features {}\n",
    "}\n",
    "\n",
    "resource \"azurerm_resource_group\" \"example\" {\n",
    "  name     = \"rg-automation-demo\"\n",
    "  location = \"East US\"\n",
    "}\n"
   ]
  },
  {
   "cell_type": "markdown",
   "id": "4168714b",
   "metadata": {},
   "source": [
    "\n",
    "## 🚀 Application Deployment (CI/CD)\n",
    "\n",
    "Automate application deployment using GitHub Actions, Azure DevOps, or CLI scripting. This reduces manual steps and allows for version-controlled, repeatable workflows.\n",
    "\n",
    "### Tools:\n",
    "- GitHub Actions\n",
    "- Azure DevOps Pipelines\n",
    "- Azure CLI or PowerShell Scripts\n"
   ]
  },
  {
   "cell_type": "markdown",
   "id": "2f6f7636",
   "metadata": {},
   "source": [
    "\n",
    "# .github/workflows/deploy.yml\n",
    "name: Deploy to Azure Web App\n",
    "\n",
    "on:\n",
    "  push:\n",
    "    branches:\n",
    "      - main\n",
    "\n",
    "jobs:\n",
    "  build-and-deploy:\n",
    "    runs-on: ubuntu-latest\n",
    "    steps:\n",
    "    - name: Checkout Code\n",
    "      uses: actions/checkout@v3\n",
    "\n",
    "    - name: Deploy to Web App\n",
    "      uses: azure/webapps-deploy@v2\n",
    "      with:\n",
    "        app-name: \"my-landingzone-app\"\n",
    "        publish-profile: ${{ secrets.AZURE_WEBAPP_PUBLISH_PROFILE }}\n",
    "        package: \".\"\n"
   ]
  },
  {
   "cell_type": "markdown",
   "id": "0e9082f6",
   "metadata": {},
   "source": [
    "\n",
    "## 🛠️ Shell Script for VM Initialization\n",
    "Useful for bootstrapping services like Apache, MySQL, or WordPress.\n"
   ]
  },
  {
   "cell_type": "markdown",
   "id": "bdc12b5e",
   "metadata": {},
   "source": [
    "\n",
    "#!/bin/bash\n",
    "# install.sh\n",
    "\n",
    "apt-get update\n",
    "apt-get install -y apache2 php php-mysql mysql-server\n",
    "systemctl start apache2\n",
    "\n",
    "cd /var/www/html\n",
    "wget https://wordpress.org/latest.tar.gz\n",
    "tar -xvzf latest.tar.gz\n",
    "cp -r wordpress/* .\n",
    "chown -R www-data:www-data /var/www/html\n"
   ]
  },
  {
   "cell_type": "markdown",
   "id": "d4fe632b",
   "metadata": {},
   "source": [
    "\n",
    "## ✅ Best Practices\n",
    "\n",
    "| Practice                    | Description                                             |\n",
    "|-----------------------------|---------------------------------------------------------|\n",
    "| 📄 Use IaC for consistency  | Avoid manual deployments using Terraform/Bicep         |\n",
    "| 🔁 Integrate CI/CD          | Automate app builds and deploys via pipelines          |\n",
    "| ✅ Validate before deploy   | Run `terraform validate` and `plan` before apply       |\n",
    "| 🏷 Auto-tag resources       | Include tags in your deployment templates/scripts      |\n",
    "| 🔄 Reusable modules         | Break IaC into reusable modules for teams              |\n"
   ]
  },
  {
   "cell_type": "markdown",
   "id": "3602fff1",
   "metadata": {},
   "source": [
    "\n",
    "## ✅ Summary\n",
    "\n",
    "> Automation in Azure Landing Zone is not just about saving time—it's about creating reliable, scalable, and repeatable deployments for infrastructure and applications.\n"
   ]
  }
 ],
 "metadata": {
  "language_info": {
   "name": "python"
  }
 },
 "nbformat": 4,
 "nbformat_minor": 5
}

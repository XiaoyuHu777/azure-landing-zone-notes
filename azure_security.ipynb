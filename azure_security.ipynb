{
 "cells": [
  {
   "cell_type": "markdown",
   "id": "dc457efd",
   "metadata": {},
   "source": [
    "\n",
    "# Azure Landing Zone: Security\n",
    "\n",
    "## Overview\n",
    "\n",
    "Security is a foundational pillar of any Azure Landing Zone. It covers identity management, access control, policy enforcement, and monitoring. Implementing robust security from day one ensures long-term compliance, resilience, and trust.\n"
   ]
  },
  {
   "cell_type": "markdown",
   "id": "c6c75d33",
   "metadata": {},
   "source": [
    "\n",
    "## 🔐 Identity and Access Management\n",
    "\n",
    "### 🔹 Azure Active Directory (Azure AD)\n",
    "- Central identity provider for Azure services and applications.\n",
    "- Manages users, groups, service principals, and enterprise applications.\n",
    "\n",
    "### 🔹 Role-Based Access Control (RBAC)\n",
    "- Grants fine-grained permissions to users and applications.\n",
    "- Supports assignment at multiple scopes: Management Group, Subscription, Resource Group, and individual Resources.\n"
   ]
  },
  {
   "cell_type": "markdown",
   "id": "31db4224",
   "metadata": {},
   "source": [
    "\n",
    "# Assign 'Contributor' role to a user at the resource group scope\n",
    "az role assignment create \\\n",
    "  --assignee user@example.com \\\n",
    "  --role Contributor \\\n",
    "  --resource-group rg-demo\n"
   ]
  },
  {
   "cell_type": "markdown",
   "id": "8458c1d5",
   "metadata": {},
   "source": [
    "\n",
    "### 🔹 Least Privilege Principle\n",
    "- Only grant users the minimum level of access necessary to perform their job.\n",
    "- Regularly audit and remove unnecessary permissions.\n"
   ]
  },
  {
   "cell_type": "markdown",
   "id": "2ae16b41",
   "metadata": {},
   "source": [
    "\n",
    "## 🔒 Authentication Enhancements\n",
    "\n",
    "### 🔸 Multi-Factor Authentication (MFA)\n",
    "- Adds a second layer of identity verification (e.g., app notification, SMS).\n",
    "- Strongly recommended for all users, especially admins.\n",
    "\n",
    "### 🔸 Single Sign-On (SSO)\n",
    "- Enables users to log in once and access multiple applications.\n",
    "- Reduces the number of credentials users need to remember.\n",
    "\n",
    "### 🔸 Federation\n",
    "- Connects Azure AD with on-premises AD or third-party providers (e.g., Okta, ADFS).\n",
    "- Supports hybrid identity scenarios.\n"
   ]
  },
  {
   "cell_type": "markdown",
   "id": "cad3203b",
   "metadata": {},
   "source": [
    "\n",
    "## 📜 Governance and Policy Enforcement\n",
    "\n",
    "### 🔹 Azure Policy\n",
    "- Defines and enforces resource compliance rules.\n",
    "- Helps maintain standards like allowed locations, required tags, or VM SKUs.\n"
   ]
  },
  {
   "cell_type": "markdown",
   "id": "c9df7f36",
   "metadata": {},
   "source": [
    "\n",
    "# Example: Create a policy that requires the 'Environment' tag\n",
    "az policy definition create \\\n",
    "  --name require-environment-tag \\\n",
    "  --display-name \"Require Environment Tag\" \\\n",
    "  --description \"Ensures resources have an Environment tag\" \\\n",
    "  --rules policy-rule.json \\\n",
    "  --params policy-params.json \\\n",
    "  --mode All\n"
   ]
  },
  {
   "cell_type": "markdown",
   "id": "732e90fe",
   "metadata": {},
   "source": [
    "\n",
    "### 🔹 Azure Blueprints\n",
    "- Combine policies, role assignments, and resource templates.\n",
    "- Deploy compliant environments faster and consistently.\n"
   ]
  },
  {
   "cell_type": "markdown",
   "id": "b9e8a96e",
   "metadata": {},
   "source": [
    "\n",
    "## 🧪 Security Monitoring and Threat Protection\n",
    "\n",
    "### 🔸 Microsoft Defender for Cloud\n",
    "- Detects vulnerabilities and threats across services.\n",
    "\n",
    "### 🔸 Azure Sentinel\n",
    "- A SIEM tool for detecting and responding to security incidents.\n",
    "- Uses KQL for querying logs.\n"
   ]
  },
  {
   "cell_type": "markdown",
   "id": "52746fb3",
   "metadata": {},
   "source": [
    "\n",
    "# Query sign-in logs to detect failed login attempts\n",
    "SigninLogs\n",
    "| where ResultType != 0\n",
    "| summarize count() by UserPrincipalName\n"
   ]
  },
  {
   "cell_type": "markdown",
   "id": "86848992",
   "metadata": {},
   "source": [
    "\n",
    "## ✅ Best Practices\n",
    "\n",
    "| Best Practice              | Description                                                         |\n",
    "|---------------------------|---------------------------------------------------------------------|\n",
    "| 🔑 Enable MFA              | Strongly recommended for all users                                  |\n",
    "| 👤 Use RBAC                | Assign roles at appropriate scopes, avoid using Owner role          |\n",
    "| 📄 Apply Azure Policies    | Enforce resource standards automatically                            |\n",
    "| 🔍 Monitor and audit       | Use Defender and Sentinel for visibility and detection              |\n",
    "| 🧾 Least privilege         | Continuously review and minimize access rights                      |\n"
   ]
  },
  {
   "cell_type": "markdown",
   "id": "b67dfaab",
   "metadata": {},
   "source": [
    "\n",
    "## ✅ Summary\n",
    "\n",
    "> Security in Azure is not a one-time setup. It is a continuous practice involving identity protection, policy enforcement, threat monitoring, and access control—all working together to protect your cloud environment.\n"
   ]
  }
 ],
 "metadata": {
  "language_info": {
   "name": "python"
  }
 },
 "nbformat": 4,
 "nbformat_minor": 5
}

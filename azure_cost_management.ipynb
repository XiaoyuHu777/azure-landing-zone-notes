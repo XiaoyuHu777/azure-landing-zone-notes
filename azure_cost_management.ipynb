{
 "cells": [
  {
   "cell_type": "markdown",
   "id": "6ec74503",
   "metadata": {},
   "source": [
    "\n",
    "#  Azure Landing Zone: Cost Management\n",
    "\n",
    "## Overview\n",
    "\n",
    "Cost management in Azure helps ensure that organizations are using their cloud budget efficiently. This includes visibility into spending, optimization of resource usage, and governance through policies and tagging.\n",
    "\n",
    "---\n"
   ]
  },
  {
   "cell_type": "markdown",
   "id": "3698629a",
   "metadata": {},
   "source": [
    "\n",
    "##  Tagging Strategy\n",
    "\n",
    "Tags are key-value pairs applied to Azure resources to help organize and track usage and costs.\n",
    "\n",
    "### Common Tags:\n",
    "- `Environment` = Dev / Test / Prod\n",
    "- `Owner` = Person responsible\n",
    "- `CostCenter` = Department or project code\n",
    "- `Project` = Project name\n",
    "\n",
    "### Best Practices:\n",
    "- Apply tags during resource creation\n",
    "- Use Azure Policy to enforce mandatory tags\n"
   ]
  },
  {
   "cell_type": "markdown",
   "id": "de0a33b9",
   "metadata": {},
   "source": [
    "\n",
    "# Example: Create a policy that requires 'CostCenter' tag\n",
    "az policy definition create \\\n",
    "  --name require-costcenter-tag \\\n",
    "  --display-name \"Require CostCenter Tag\" \\\n",
    "  --description \"Ensure all resources have a CostCenter tag\" \\\n",
    "  --rules policy-costcenter-rule.json \\\n",
    "  --params policy-costcenter-params.json \\\n",
    "  --mode All\n"
   ]
  },
  {
   "cell_type": "markdown",
   "id": "d174be81",
   "metadata": {},
   "source": [
    "\n",
    "## Cost Management Tools\n",
    "\n",
    "### Azure Cost Management + Billing\n",
    "- View usage and cost trends\n",
    "- Filter by resource group, tag, or service\n",
    "\n",
    "### Budgets\n",
    "- Define spending thresholds and trigger alerts\n",
    "- Supports email and webhook notifications\n",
    "\n",
    "### Cost Analysis\n",
    "- Create charts and reports to analyze spending patterns\n",
    "\n",
    "### Advisor Recommendations\n",
    "- Suggest ways to reduce cost (e.g., shutdown idle VMs)\n"
   ]
  },
  {
   "cell_type": "markdown",
   "id": "b8762655",
   "metadata": {},
   "source": [
    "\n",
    "##  Example: Setting a Budget with Azure CLI\n"
   ]
  },
  {
   "cell_type": "markdown",
   "id": "e7a0ed0e",
   "metadata": {
    "vscode": {
     "languageId": "powershell"
    }
   },
   "source": [
    "\n",
    "# Set a budget for a subscription with a 90% alert threshold\n",
    "az consumption budget create \\\n",
    "  --amount 500 \\\n",
    "  --time-grain Monthly \\\n",
    "  --category cost \\\n",
    "  --name DevBudget \\\n",
    "  --resource-group rg-demo \\\n",
    "  --start-date 2024-01-01 \\\n",
    "  --end-date 2024-12-31 \\\n",
    "  --notification key1=threshold=90% \\\n",
    "                 contactEmails=\"team@example.com\"\n"
   ]
  },
  {
   "cell_type": "markdown",
   "id": "318569cc",
   "metadata": {},
   "source": [
    "\n",
    "## Optimization Tips\n",
    "\n",
    "| Strategy                    | Description                                     |\n",
    "|-----------------------------|-------------------------------------------------|\n",
    "|  Shutdown idle resources  | Stop unused VMs or scale down when not needed   |\n",
    "|  Reserved Instances       | Save up to 72% for predictable workloads        |\n",
    "|  Autoscaling              | Dynamically adjust compute based on load        |\n",
    "|  Resource tagging         | Track and allocate costs accurately             |\n"
   ]
  },
  {
   "cell_type": "markdown",
   "id": "2b13c0a8",
   "metadata": {},
   "source": [
    "\n",
    "##  Summary\n",
    "\n",
    "> Cost management in Azure is about more than just tracking money—it's about aligning IT spending with business goals through visibility, accountability, and automation.\n"
   ]
  }
 ],
 "metadata": {
  "language_info": {
   "name": "python"
  }
 },
 "nbformat": 4,
 "nbformat_minor": 5
}

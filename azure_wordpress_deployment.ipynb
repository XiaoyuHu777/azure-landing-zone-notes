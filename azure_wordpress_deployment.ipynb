{
 "cells": [
  {
   "cell_type": "markdown",
   "id": "51794eb1",
   "metadata": {},
   "source": [
    "\n",
    "#  Azure Landing Zone: WordPress Deployment Example (Terraform + LAMP)\n",
    "\n",
    "## Overview\n",
    "\n",
    "This example demonstrates how to automate the deployment of a WordPress website using a LAMP stack on an Azure Virtual Machine. We'll use **Terraform** for infrastructure provisioning and a **Bash script** for application setup.\n",
    "\n",
    "---\n"
   ]
  },
  {
   "cell_type": "markdown",
   "id": "f7fc9ab1",
   "metadata": {},
   "source": [
    "\n",
    "## Architecture Summary\n",
    "\n",
    "- **Virtual Network (VNet)** with a **subnet**\n",
    "- **Network Interface (NIC)** attached to a **Linux Virtual Machine (VM)**\n",
    "- **Public IP address** and **Network Security Group (NSG)**\n",
    "- The VM is configured with **Apache, PHP, MySQL**, and **WordPress**\n"
   ]
  },
  {
   "cell_type": "markdown",
   "id": "525c6f9b",
   "metadata": {},
   "source": [
    "\n",
    "## Terraform File Structure\n",
    "\n",
    "```\n",
    "wordpress-lamp/\n",
    "├── main.tf            # Main infrastructure config\n",
    "├── variables.tf       # Input variables\n",
    "├── outputs.tf         # Outputs like public IP\n",
    "├── install.sh         # VM bootstrap script to install WordPress\n",
    "```\n"
   ]
  },
  {
   "cell_type": "code",
   "execution_count": null,
   "id": "449df8ce",
   "metadata": {
    "vscode": {
     "languageId": "powershell"
    }
   },
   "outputs": [],
   "source": [
    "\n",
    "# main.tf (Terraform snippet)\n",
    "\n",
    "provider \"azurerm\" {\n",
    "  features {}\n",
    "}\n",
    "\n",
    "resource \"azurerm_resource_group\" \"rg\" {\n",
    "  name     = \"rg-wordpress\"\n",
    "  location = \"East US\"\n",
    "}\n",
    "\n",
    "resource \"azurerm_virtual_network\" \"vnet\" {\n",
    "  name                = \"vnet-wordpress\"\n",
    "  address_space       = [\"10.0.0.0/16\"]\n",
    "  location            = azurerm_resource_group.rg.location\n",
    "  resource_group_name = azurerm_resource_group.rg.name\n",
    "}\n",
    "\n",
    "resource \"azurerm_subnet\" \"subnet\" {\n",
    "  name                 = \"subnet-wordpress\"\n",
    "  resource_group_name  = azurerm_resource_group.rg.name\n",
    "  virtual_network_name = azurerm_virtual_network.vnet.name\n",
    "  address_prefixes     = [\"10.0.1.0/24\"]\n",
    "}\n"
   ]
  },
  {
   "cell_type": "markdown",
   "id": "4e00c626",
   "metadata": {},
   "source": [
    "\n",
    "## VM and Network Configuration (Terraform)\n"
   ]
  },
  {
   "cell_type": "code",
   "execution_count": null,
   "id": "51a2694c",
   "metadata": {
    "vscode": {
     "languageId": "powershell"
    }
   },
   "outputs": [],
   "source": [
    "\n",
    "resource \"azurerm_network_interface\" \"nic\" {\n",
    "  name                = \"nic-wordpress\"\n",
    "  location            = azurerm_resource_group.rg.location\n",
    "  resource_group_name = azurerm_resource_group.rg.name\n",
    "\n",
    "  ip_configuration {\n",
    "    name                          = \"internal\"\n",
    "    subnet_id                     = azurerm_subnet.subnet.id\n",
    "    private_ip_address_allocation = \"Dynamic\"\n",
    "  }\n",
    "}\n",
    "\n",
    "resource \"azurerm_linux_virtual_machine\" \"vm\" {\n",
    "  name                = \"vm-wordpress\"\n",
    "  resource_group_name = azurerm_resource_group.rg.name\n",
    "  location            = azurerm_resource_group.rg.location\n",
    "  size                = \"Standard_B1s\"\n",
    "  admin_username      = \"azureuser\"\n",
    "  admin_password      = \"YourPassword123!\"\n",
    "  network_interface_ids = [azurerm_network_interface.nic.id]\n",
    "\n",
    "  os_disk {\n",
    "    caching              = \"ReadWrite\"\n",
    "    storage_account_type = \"Standard_LRS\"\n",
    "  }\n",
    "\n",
    "  source_image_reference {\n",
    "    publisher = \"Canonical\"\n",
    "    offer     = \"UbuntuServer\"\n",
    "    sku       = \"18.04-LTS\"\n",
    "    version   = \"latest\"\n",
    "  }\n",
    "\n",
    "  custom_data = filebase64(\"install.sh\")\n",
    "}\n"
   ]
  },
  {
   "cell_type": "markdown",
   "id": "e0883105",
   "metadata": {},
   "source": [
    "\n",
    "## 📜 Bash Script: install.sh\n",
    "\n",
    "This script installs the full LAMP stack and sets up WordPress.\n"
   ]
  },
  {
   "cell_type": "markdown",
   "id": "4e043a65",
   "metadata": {
    "vscode": {
     "languageId": "powershell"
    }
   },
   "source": [
    "\n",
    "#!/bin/bash\n",
    "\n",
    "apt-get update\n",
    "apt-get install -y apache2 php php-mysql mysql-server wget unzip\n",
    "systemctl start apache2\n",
    "systemctl enable apache2\n",
    "\n",
    "cd /var/www/html\n",
    "wget https://wordpress.org/latest.tar.gz\n",
    "tar -xzf latest.tar.gz\n",
    "cp -r wordpress/* .\n",
    "chown -R www-data:www-data /var/www/html\n",
    "chmod -R 755 /var/www/html\n",
    "rm -rf wordpress latest.tar.gz\n"
   ]
  },
  {
   "cell_type": "markdown",
   "id": "9d037e73",
   "metadata": {},
   "source": [
    "\n",
    "## Accessing the Website\n",
    "\n",
    "After applying Terraform, get the public IP address:\n",
    "\n",
    "```bash\n",
    "terraform output\n",
    "```\n",
    "\n",
    "Then, open a browser and visit:  \n",
    "**http://<your-public-ip>**\n",
    "\n",
    "You should see the WordPress setup page \n",
    "\n",
    "---\n",
    "\n",
    "## Summary\n",
    "\n",
    "This example demonstrates how to:\n",
    "- Use **Terraform** to provision infrastructure\n",
    "- Bootstrap a **LAMP stack** with **Bash**\n",
    "- Automate a full **WordPress** deployment on Azure\n",
    "\n",
    "> Infrastructure as Code + Automation = Fast, repeatable cloud deployments!\n"
   ]
  }
 ],
 "metadata": {
  "language_info": {
   "name": "python"
  }
 },
 "nbformat": 4,
 "nbformat_minor": 5
}
